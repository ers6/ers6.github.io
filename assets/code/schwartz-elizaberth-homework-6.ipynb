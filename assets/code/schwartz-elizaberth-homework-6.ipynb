{
 "cells": [
  {
   "cell_type": "code",
   "execution_count": 55,
   "id": "bec94078",
   "metadata": {},
   "outputs": [],
   "source": [
    "import pandas as pd\n",
    "import numpy as np\n",
    "import ipywidgets\n",
    "import bqplot"
   ]
  },
  {
   "cell_type": "code",
   "execution_count": 56,
   "id": "2308aac7",
   "metadata": {},
   "outputs": [],
   "source": [
    "lic = pd.read_csv(\"https://raw.githubusercontent.com/UIUC-iSchool-DataViz/is445_data/main/licenses_fall2022.csv\", na_values={\"Original Issue Date\": 'None', \"Effective Date\" : \"None\", \"County\" : \"None\", \"County\" : \"nan\", \"Expiration Date\":\"nan\", \"Expiration Date\": '  /  /    '}) "
   ]
  },
  {
   "cell_type": "code",
   "execution_count": 57,
   "id": "d706c137",
   "metadata": {},
   "outputs": [],
   "source": [
    "lic[\"Effective Date\"] = pd.to_datetime(lic[\"Effective Date\"],\n",
    "                                            format = '%m/%d/%Y')\n",
    "lic[\"Expiration Date\"] = pd.to_datetime(lic[\"Expiration Date\"],\n",
    "                                            format = '%m/%d/%Y', errors='coerce')\n",
    "lic['days_active'] = lic['Expiration Date'] - lic['Effective Date']\n",
    "\n",
    "lic[\"Original Issue Date\"] = pd.to_datetime(lic[\"Original Issue Date\"],\n",
    "                                             format = '%m/%d/%Y', errors='coerce')\n",
    "lic['orig_to_exp'] = (lic['Expiration Date'] - lic['Original Issue Date']).astype('timedelta64[D]')\n",
    "\n",
    "lic['orig_year'] = lic['Original Issue Date'].dt.year\n"
   ]
  },
  {
   "cell_type": "code",
   "execution_count": 58,
   "id": "31e46e74",
   "metadata": {},
   "outputs": [],
   "source": [
    "lic_table = pd.pivot_table(lic, values='days_active', index=['County'], columns=['License Type'], aggfunc=np.mean, fill_value=pd.NaT)"
   ]
  },
  {
   "cell_type": "code",
   "execution_count": 59,
   "id": "97466d04",
   "metadata": {},
   "outputs": [
    {
     "data": {
      "application/vnd.jupyter.widget-view+json": {
       "model_id": "b76454e2a3df42cf81e25eb2bb484e33",
       "version_major": 2,
       "version_minor": 0
      },
      "text/plain": [
       "Figure(axes=[Axis(label='license type', scale=OrdinalScale()), Axis(label='county', orientation='vertical', sc…"
      ]
     },
     "metadata": {},
     "output_type": "display_data"
    }
   ],
   "source": [
    "# creating the grid heat map\n",
    "\n",
    "# 1. data - columns is license type and rows are county\n",
    "x = lic_table.index\n",
    "y = lic_table.columns\n",
    "\n",
    "\n",
    "# 2. scales \n",
    "col_sc = bqplot.ColorScale(scheme = 'RdPu')\n",
    "x_sc = bqplot.OrdinalScale()\n",
    "y_sc = bqplot.OrdinalScale()\n",
    "\n",
    "# 3. ax\n",
    "col_ax = bqplot.ColorAxis(scale=col_sc, orientation='vertical', side='right')\n",
    "x_ax = bqplot.Axis(scale=x_sc, label='license type')\n",
    "y_ax = bqplot.Axis(scale=y_sc, label='county', orientation = 'vertical')\n",
    "\n",
    "# 4. mark heeat map\n",
    "heat_map = bqplot.GridHeatMap(row=lic_table.index, column=lic_table.columns, color=lic_table.values.astype('int'), scales={'color': col_sc,'row': y_sc, 'column': x_sc}, interactions = {'click': 'select'}, selected_style = {'fill':'blue'})\n",
    "\n",
    "\n",
    "#6. figure\n",
    "fig = bqplot.Figure(marks=[heat_map], axes=[x_ax, y_ax, col_ax])\n",
    "fig"
   ]
  },
  {
   "cell_type": "code",
   "execution_count": 60,
   "id": "2d7c6d75",
   "metadata": {},
   "outputs": [],
   "source": [
    "# bar plot (that i called hist for some reason lol)\n",
    "\n",
    "i, j = 'CHAMPAIGN', 'COSMO'\n",
    "\n",
    "the_data = lic.loc[lic['County'] == i].loc[lic['License Type'] == j]\n",
    "series_to_plot = the_data.groupby('orig_year')['orig_to_exp'].median()\n",
    "\n",
    "this_x = series_to_plot.index\n",
    "this_y = series_to_plot.values\n",
    "\n",
    "#scale\n",
    "x_sch = bqplot.LinearScale()\n",
    "y_sch = bqplot.LinearScale()\n",
    "\n",
    "# axis\n",
    "ax_xsch = bqplot.Axis(label= 'year', scale = x_sch)\n",
    "ax_ysch = bqplot.Axis(label='median days from issue to expiration', scale= y_sch, orientation='vertical')\n",
    "# marks\n",
    "hist = bqplot.Bars(x = this_x, y=this_y,\n",
    "                   scales = {'x': x_sch, 'y': y_sch})\n",
    "fig_hist = bqplot.Figure(marks = [hist], axes = [ax_xsch, ax_ysch]) "
   ]
  },
  {
   "cell_type": "code",
   "execution_count": 61,
   "id": "630862c6",
   "metadata": {},
   "outputs": [],
   "source": [
    "# linking grid heat map to bar plot\n",
    "\n",
    "selectedLabel = ipywidgets.Label()\n",
    "def get_data_value(change):\n",
    "    i,j = change['owner'].selected[0]\n",
    "    v = lic_table.iloc[i].iloc[j]\n",
    "    if (len(change['owner'].selected) == 1):\n",
    "        the_data = lic.loc[lic['County'] == lic_table.iloc[i,:].name].loc[lic['License Type'] == lic_table.iloc[:,j].name]\n",
    "        series_to_plot = the_data.groupby('orig_year')['orig_to_exp'].median()\n",
    "        hist.x = series_to_plot.index\n",
    "        hist.y = series_to_plot.values\n",
    "        selectedLabel.value = 'mean days '+ str(v)\n",
    "\n",
    "heat_map.observe(get_data_value, 'selected')\n"
   ]
  },
  {
   "cell_type": "code",
   "execution_count": 62,
   "id": "95a79d70",
   "metadata": {},
   "outputs": [
    {
     "data": {
      "application/vnd.jupyter.widget-view+json": {
       "model_id": "b03c5fe9cc0b46acb2febec1506a3f96",
       "version_major": 2,
       "version_minor": 0
      },
      "text/plain": [
       "VBox(children=(Label(value=''), HBox(children=(Figure(axes=[Axis(label='license type', scale=OrdinalScale(), s…"
      ]
     },
     "metadata": {},
     "output_type": "display_data"
    }
   ],
   "source": [
    "fig.layout.min_width = '500px'\n",
    "fig_hist.layout.min_width = '500px'\n",
    "figures = ipywidgets.HBox([fig, fig_hist])\n",
    "myDashboard = ipywidgets.VBox([selectedLabel, figures])\n",
    "\n",
    "myDashboard"
   ]
  },
  {
   "cell_type": "markdown",
   "id": "013555ac",
   "metadata": {},
   "source": [
    "## Reflection \n",
    "\n",
    "This assignment was difficult largely due to me not following the bqplot instructions. I found myself attempting to create functions ignoring the fact that bqplot objects already have traitlets. Moreover, my naming conventions of different elements of bqplot plots were not consistent, which made following my logic difficult. Going forward, I will be more systematic when using declarative plotting engines. I think this will reduce my confusion and the amount of time it takes me to create a final product. \n",
    "\n",
    "### Transformations/Scalings\n",
    "\n",
    "I transformed the data from its initial state via datetime arithmetic using pandas. This involved transforming the data type of the original issue date, effective date, and expiration date into datetime objects. For the days active and original to expiration dates, I reported teh values in days. This means that time elements are not present--i.e., if a license became effective on 2022-01-23 23:59:59, the date would only be considered as 2022-01-23. It would not be rounded up. I did not do any rescaling to the data. \n",
    "\n",
    "### NaN's discussion\n",
    "Write up includes includes discussion of treatments of missing data/NaN's\n",
    "When data was missing, I left it in the grid heat map. This is because I believe the absence of a phenomenon is just as meaningful as its presence. A user may be curious to know what kinds of licenses have never been issued in their county. For that reason, I think the empty bar plot is also a useful visual; it confronts the viewer with the data's absence. With more time, I would have liked to make sure the NaT values were presented in a very different color from the rest of the data. At the moment, they seem to be treated as '0' on the scale which can make it difficult to find a cell with actual data. \n",
    "\n",
    "### Aesthetics\n",
    "I ran out of time to make any aesthetic choices. With time, I would have liked to rotate the labels on the axes of the grid heat map so they were visible, add a title to the bar plot, and present the NaT values in a distinct color to make it clear where data exists in the grid heat map. "
   ]
  },
  {
   "cell_type": "code",
   "execution_count": null,
   "id": "d20c0563",
   "metadata": {},
   "outputs": [],
   "source": [
    "\n"
   ]
  },
  {
   "cell_type": "code",
   "execution_count": null,
   "id": "86855b9e",
   "metadata": {},
   "outputs": [],
   "source": []
  }
 ],
 "metadata": {
  "kernelspec": {
   "display_name": "Python 3 (ipykernel)",
   "language": "python",
   "name": "python3"
  },
  "language_info": {
   "codemirror_mode": {
    "name": "ipython",
    "version": 3
   },
   "file_extension": ".py",
   "mimetype": "text/x-python",
   "name": "python",
   "nbconvert_exporter": "python",
   "pygments_lexer": "ipython3",
   "version": "3.8.15"
  }
 },
 "nbformat": 4,
 "nbformat_minor": 5
}
